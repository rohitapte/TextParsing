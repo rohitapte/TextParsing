{
 "cells": [
  {
   "cell_type": "code",
   "execution_count": 39,
   "metadata": {
    "collapsed": false
   },
   "outputs": [],
   "source": [
    "import nltk\n",
    "import nltk.inference\n",
    "\n",
    "#nltk.download()\n",
    "from nltk import pos_tag, word_tokenize,sent_tokenize\n",
    "from collections import Counter\n",
    "from nltk.corpus import wordnet as wn"
   ]
  },
  {
   "cell_type": "code",
   "execution_count": 2,
   "metadata": {
    "collapsed": false
   },
   "outputs": [
    {
     "name": "stdout",
     "output_type": "stream",
     "text": [
      "*** Introductory Examples for the NLTK Book ***\n",
      "Loading text1, ..., text9 and sent1, ..., sent9\n",
      "Type the name of the text or sentence to view it.\n",
      "Type: 'texts()' or 'sents()' to list the materials.\n",
      "text1: Moby Dick by Herman Melville 1851\n",
      "text2: Sense and Sensibility by Jane Austen 1811\n",
      "text3: The Book of Genesis\n",
      "text4: Inaugural Address Corpus\n",
      "text5: Chat Corpus\n",
      "text6: Monty Python and the Holy Grail\n",
      "text7: Wall Street Journal\n",
      "text8: Personals Corpus\n",
      "text9: The Man Who Was Thursday by G . K . Chesterton 1908\n"
     ]
    }
   ],
   "source": [
    "from nltk.corpus import *\n",
    "from nltk.book import *"
   ]
  },
  {
   "cell_type": "code",
   "execution_count": 7,
   "metadata": {
    "collapsed": false
   },
   "outputs": [
    {
     "data": {
      "text/plain": [
       "['austen-emma.txt',\n",
       " 'austen-persuasion.txt',\n",
       " 'austen-sense.txt',\n",
       " 'bible-kjv.txt',\n",
       " 'blake-poems.txt',\n",
       " 'bryant-stories.txt',\n",
       " 'burgess-busterbrown.txt',\n",
       " 'carroll-alice.txt',\n",
       " 'chesterton-ball.txt',\n",
       " 'chesterton-brown.txt',\n",
       " 'chesterton-thursday.txt',\n",
       " 'edgeworth-parents.txt',\n",
       " 'melville-moby_dick.txt',\n",
       " 'milton-paradise.txt',\n",
       " 'shakespeare-caesar.txt',\n",
       " 'shakespeare-hamlet.txt',\n",
       " 'shakespeare-macbeth.txt',\n",
       " 'whitman-leaves.txt']"
      ]
     },
     "execution_count": 7,
     "metadata": {},
     "output_type": "execute_result"
    }
   ],
   "source": [
    "gutenberg.fileids() "
   ]
  },
  {
   "cell_type": "code",
   "execution_count": 25,
   "metadata": {
    "collapsed": false
   },
   "outputs": [],
   "source": [
    "text=gutenberg.raw('austen-persuasion.txt')\n",
    "text=text.replace('\\n','')\n",
    "text=text.replace('\\r','')"
   ]
  },
  {
   "cell_type": "code",
   "execution_count": 26,
   "metadata": {
    "collapsed": false
   },
   "outputs": [],
   "source": [
    "tokens=word_tokenize(text)"
   ]
  },
  {
   "cell_type": "code",
   "execution_count": 27,
   "metadata": {
    "collapsed": false
   },
   "outputs": [
    {
     "data": {
      "text/plain": [
       "92427"
      ]
     },
     "execution_count": 27,
     "metadata": {},
     "output_type": "execute_result"
    }
   ],
   "source": [
    "len(tokens)"
   ]
  },
  {
   "cell_type": "code",
   "execution_count": 28,
   "metadata": {
    "collapsed": false
   },
   "outputs": [
    {
     "data": {
      "text/plain": [
       "9760"
      ]
     },
     "execution_count": 28,
     "metadata": {},
     "output_type": "execute_result"
    }
   ],
   "source": [
    "len(set(tokens))"
   ]
  },
  {
   "cell_type": "code",
   "execution_count": 33,
   "metadata": {
    "collapsed": false
   },
   "outputs": [
    {
     "data": {
      "text/plain": [
       "['1945-Truman.txt',\n",
       " '1946-Truman.txt',\n",
       " '1947-Truman.txt',\n",
       " '1948-Truman.txt',\n",
       " '1949-Truman.txt',\n",
       " '1950-Truman.txt',\n",
       " '1951-Truman.txt',\n",
       " '1953-Eisenhower.txt',\n",
       " '1954-Eisenhower.txt',\n",
       " '1955-Eisenhower.txt',\n",
       " '1956-Eisenhower.txt',\n",
       " '1957-Eisenhower.txt',\n",
       " '1958-Eisenhower.txt',\n",
       " '1959-Eisenhower.txt',\n",
       " '1960-Eisenhower.txt',\n",
       " '1961-Kennedy.txt',\n",
       " '1962-Kennedy.txt',\n",
       " '1963-Johnson.txt',\n",
       " '1963-Kennedy.txt',\n",
       " '1964-Johnson.txt',\n",
       " '1965-Johnson-1.txt',\n",
       " '1965-Johnson-2.txt',\n",
       " '1966-Johnson.txt',\n",
       " '1967-Johnson.txt',\n",
       " '1968-Johnson.txt',\n",
       " '1969-Johnson.txt',\n",
       " '1970-Nixon.txt',\n",
       " '1971-Nixon.txt',\n",
       " '1972-Nixon.txt',\n",
       " '1973-Nixon.txt',\n",
       " '1974-Nixon.txt',\n",
       " '1975-Ford.txt',\n",
       " '1976-Ford.txt',\n",
       " '1977-Ford.txt',\n",
       " '1978-Carter.txt',\n",
       " '1979-Carter.txt',\n",
       " '1980-Carter.txt',\n",
       " '1981-Reagan.txt',\n",
       " '1982-Reagan.txt',\n",
       " '1983-Reagan.txt',\n",
       " '1984-Reagan.txt',\n",
       " '1985-Reagan.txt',\n",
       " '1986-Reagan.txt',\n",
       " '1987-Reagan.txt',\n",
       " '1988-Reagan.txt',\n",
       " '1989-Bush.txt',\n",
       " '1990-Bush.txt',\n",
       " '1991-Bush-1.txt',\n",
       " '1991-Bush-2.txt',\n",
       " '1992-Bush.txt',\n",
       " '1993-Clinton.txt',\n",
       " '1994-Clinton.txt',\n",
       " '1995-Clinton.txt',\n",
       " '1996-Clinton.txt',\n",
       " '1997-Clinton.txt',\n",
       " '1998-Clinton.txt',\n",
       " '1999-Clinton.txt',\n",
       " '2000-Clinton.txt',\n",
       " '2001-GWBush-1.txt',\n",
       " '2001-GWBush-2.txt',\n",
       " '2002-GWBush.txt',\n",
       " '2003-GWBush.txt',\n",
       " '2004-GWBush.txt',\n",
       " '2005-GWBush.txt',\n",
       " '2006-GWBush.txt']"
      ]
     },
     "execution_count": 33,
     "metadata": {},
     "output_type": "execute_result"
    }
   ],
   "source": [
    "from nltk.corpus import state_union\n",
    "state_union.fileids()"
   ]
  },
  {
   "cell_type": "code",
   "execution_count": 93,
   "metadata": {
    "collapsed": false
   },
   "outputs": [
    {
     "name": "stdout",
     "output_type": "stream",
     "text": [
      "{'1975-Ford.txt': [0], '1965-Johnson-1.txt': [0], '2002-GWBush.txt': [0], '1972-Nixon.txt': [1], '1966-Johnson.txt': [0], '1992-Bush.txt': [0], '2006-GWBush.txt': [1], '1969-Johnson.txt': [0], '1956-Eisenhower.txt': [3], '1998-Clinton.txt': [0], '1973-Nixon.txt': [1], '1963-Johnson.txt': [0], '1991-Bush-2.txt': [0], '2004-GWBush.txt': [2], '1994-Clinton.txt': [0], '2001-GWBush-2.txt': [1], '1958-Eisenhower.txt': [0], '1970-Nixon.txt': [0], '1946-Truman.txt': [15], '1993-Clinton.txt': [0], '1948-Truman.txt': [5], '1979-Carter.txt': [0], '1981-Reagan.txt': [3], '1989-Bush.txt': [1], '1976-Ford.txt': [0], '1988-Reagan.txt': [0], '1974-Nixon.txt': [1], '2000-Clinton.txt': [1], '1982-Reagan.txt': [3], '1978-Carter.txt': [0], '1947-Truman.txt': [5], '1967-Johnson.txt': [1], '1953-Eisenhower.txt': [2], '1955-Eisenhower.txt': [2], '1945-Truman.txt': [1], '1949-Truman.txt': [0], '1965-Johnson-2.txt': [1], '2003-GWBush.txt': [1], '1996-Clinton.txt': [0], '1999-Clinton.txt': [0], '1995-Clinton.txt': [0], '1954-Eisenhower.txt': [0], '1983-Reagan.txt': [1], '2001-GWBush-1.txt': [0], '1987-Reagan.txt': [0], '1984-Reagan.txt': [0], '1961-Kennedy.txt': [0], '1959-Eisenhower.txt': [0], '1977-Ford.txt': [1], '1960-Eisenhower.txt': [2], '1997-Clinton.txt': [0], '1963-Kennedy.txt': [2], '1980-Carter.txt': [0], '1950-Truman.txt': [1], '1985-Reagan.txt': [0], '1964-Johnson.txt': [2], '1990-Bush.txt': [0], '1962-Kennedy.txt': [0], '1968-Johnson.txt': [1], '1986-Reagan.txt': [1], '1957-Eisenhower.txt': [1], '2005-GWBush.txt': [2], '1951-Truman.txt': [2], '1971-Nixon.txt': [0], '1991-Bush-1.txt': [0]}\n"
     ]
    }
   ],
   "source": [
    "searchwords={}\n",
    "for file in state_union.fileids():\n",
    "    wordcounts=Counter(state_union.words(file))\n",
    "    words=[]\n",
    "    words.append(wordcounts[\"men\"])\n",
    "    words.append(wordcounts[\"women\"])\n",
    "    words.append(wordcounts[\"people\"])\n",
    "    searchwords[file]=words\n",
    "print(searchwords)"
   ]
  },
  {
   "cell_type": "code",
   "execution_count": 68,
   "metadata": {
    "collapsed": false
   },
   "outputs": [],
   "source": [
    "computer=wn.synset('computer.n.01')"
   ]
  },
  {
   "cell_type": "code",
   "execution_count": 98,
   "metadata": {
    "collapsed": false
   },
   "outputs": [
    {
     "data": {
      "text/plain": [
       "[Synset('analog_computer.n.01'),\n",
       " Synset('digital_computer.n.01'),\n",
       " Synset('home_computer.n.01'),\n",
       " Synset('node.n.08'),\n",
       " Synset('number_cruncher.n.02'),\n",
       " Synset('pari-mutuel_machine.n.01'),\n",
       " Synset('predictor.n.03'),\n",
       " Synset('server.n.03'),\n",
       " Synset('turing_machine.n.01'),\n",
       " Synset('web_site.n.01')]"
      ]
     },
     "execution_count": 98,
     "metadata": {},
     "output_type": "execute_result"
    }
   ],
   "source": [
    "computer.hyponyms()"
   ]
  },
  {
   "cell_type": "code",
   "execution_count": 70,
   "metadata": {
    "collapsed": false
   },
   "outputs": [
    {
     "data": {
      "text/plain": [
       "[[Synset('entity.n.01'),\n",
       "  Synset('physical_entity.n.01'),\n",
       "  Synset('object.n.01'),\n",
       "  Synset('whole.n.02'),\n",
       "  Synset('artifact.n.01'),\n",
       "  Synset('instrumentality.n.03'),\n",
       "  Synset('device.n.01'),\n",
       "  Synset('machine.n.01'),\n",
       "  Synset('computer.n.01')]]"
      ]
     },
     "execution_count": 70,
     "metadata": {},
     "output_type": "execute_result"
    }
   ],
   "source": [
    "computer.hypernym_paths()"
   ]
  },
  {
   "cell_type": "code",
   "execution_count": 71,
   "metadata": {
    "collapsed": false
   },
   "outputs": [
    {
     "data": {
      "text/plain": [
       "[Synset('busbar.n.01'),\n",
       " Synset('cathode-ray_tube.n.01'),\n",
       " Synset('central_processing_unit.n.01'),\n",
       " Synset('chip.n.07'),\n",
       " Synset('computer_accessory.n.01'),\n",
       " Synset('computer_circuit.n.01'),\n",
       " Synset('data_converter.n.01'),\n",
       " Synset('disk_cache.n.01'),\n",
       " Synset('diskette.n.01'),\n",
       " Synset('hardware.n.03'),\n",
       " Synset('keyboard.n.01'),\n",
       " Synset('memory.n.04'),\n",
       " Synset('monitor.n.04'),\n",
       " Synset('peripheral.n.01')]"
      ]
     },
     "execution_count": 71,
     "metadata": {},
     "output_type": "execute_result"
    }
   ],
   "source": [
    "computer.part_meronyms()"
   ]
  },
  {
   "cell_type": "code",
   "execution_count": 78,
   "metadata": {
    "collapsed": false
   },
   "outputs": [
    {
     "data": {
      "text/plain": [
       "[]"
      ]
     },
     "execution_count": 78,
     "metadata": {},
     "output_type": "execute_result"
    }
   ],
   "source": [
    "wn.synset('tree.n.01').member_meronyms()"
   ]
  },
  {
   "cell_type": "code",
   "execution_count": 74,
   "metadata": {
    "collapsed": false
   },
   "outputs": [
    {
     "data": {
      "text/plain": [
       "[Synset('heartwood.n.01'), Synset('sapwood.n.01')]"
      ]
     },
     "execution_count": 74,
     "metadata": {},
     "output_type": "execute_result"
    }
   ],
   "source": [
    "wn.synset('tree.n.01').substance_meronyms()"
   ]
  },
  {
   "cell_type": "code",
   "execution_count": 86,
   "metadata": {
    "collapsed": false
   },
   "outputs": [
    {
     "data": {
      "text/plain": [
       "[Synset('forest.n.01')]"
      ]
     },
     "execution_count": 86,
     "metadata": {},
     "output_type": "execute_result"
    }
   ],
   "source": [
    "wn.synset('tree.n.01').member_holonyms()"
   ]
  },
  {
   "cell_type": "code",
   "execution_count": 92,
   "metadata": {
    "collapsed": false
   },
   "outputs": [
    {
     "data": {
      "text/plain": [
       "[]"
      ]
     },
     "execution_count": 92,
     "metadata": {},
     "output_type": "execute_result"
    }
   ],
   "source": [
    "wn.synset('piano.n.01').part_holonyms()"
   ]
  },
  {
   "cell_type": "code",
   "execution_count": 90,
   "metadata": {
    "collapsed": false
   },
   "outputs": [
    {
     "data": {
      "text/plain": [
       "[Synset('mead.n.03'), Synset('oenomel.n.01')]"
      ]
     },
     "execution_count": 90,
     "metadata": {},
     "output_type": "execute_result"
    }
   ],
   "source": [
    "wn.synset('honey.n.01').substance_holonyms()"
   ]
  },
  {
   "cell_type": "code",
   "execution_count": 94,
   "metadata": {
    "collapsed": false
   },
   "outputs": [
    {
     "name": "stdout",
     "output_type": "stream",
     "text": [
      "{'blake-poems.txt': 0, 'chesterton-thursday.txt': 26, 'shakespeare-macbeth.txt': 0, 'carroll-alice.txt': 7, 'edgeworth-parents.txt': 59, 'bryant-stories.txt': 3, 'burgess-busterbrown.txt': 0, 'shakespeare-hamlet.txt': 0, 'austen-persuasion.txt': 83, 'austen-sense.txt': 145, 'milton-paradise.txt': 4, 'austen-emma.txt': 114, 'bible-kjv.txt': 0, 'shakespeare-caesar.txt': 0, 'chesterton-brown.txt': 21, 'whitman-leaves.txt': 8, 'melville-moby_dick.txt': 80, 'chesterton-ball.txt': 34}\n"
     ]
    }
   ],
   "source": [
    "searchwords={}\n",
    "for file in gutenberg.fileids():\n",
    "    wordcounts=Counter(gutenberg.words(file))\n",
    "    searchwords[file]=wordcounts[\"However\"]\n",
    "print(searchwords)"
   ]
  },
  {
   "cell_type": "code",
   "execution_count": 96,
   "metadata": {
    "collapsed": false
   },
   "outputs": [
    {
     "name": "stdout",
     "output_type": "stream",
     "text": [
      "Displaying 25 of 131 matches:\n",
      " her many enjoyments . The danger , however , was at present so unperceived , t\n",
      "ion would offend . Miss Churchill , however , being of age , and with the full \n",
      "n . From the expense of the child , however , he was soon relieved . The boy ha\n",
      " -- and been very well brought up . However , I do not mean to set up my opinio\n",
      "f and predict . It was not likely , however , that any body should have equalle\n",
      "to be borne . We will not despair , however . Weston may grow cross from the wa\n",
      "is so very handsome and agreeable . However , I do really think Mr . Martin a v\n",
      " accepted after all . This letter , however , was written , and sealed , and se\n",
      "e him .\" \" And if I did , ( which , however , I am far from allowing ) I should\n",
      " slightingly . Waiving that point , however , and supposing her to be , as you \n",
      "e was not so materially cast down , however , but that a little time and the re\n",
      "ld inspire him .\" The very next day however produced some proof of inspiration \n",
      "and staid to look through herself ; however , she called me back presently , an\n",
      "t turn up . His ostensible reason , however , was to ask whether Mr . Woodhouse\n",
      "l and cross . This does not apply , however , to Miss Bates ; she is only too g\n",
      "and sufferings of the poor family , however , were the first subject on meeting\n",
      "ting for her . She gained on them , however , involuntarily : the child ' s pac\n",
      "ould close it . It was not closed , however , it still remained ajar ; but by e\n",
      " believes himself secure .\" Still , however , though every thing had not been a\n",
      "ght advance rapidly if they would , however ; they must advance somehow or othe\n",
      " offence came not . The beginning , however , of every visit displayed none but\n",
      "eed !-- and my memory is very bad . However , it was an exceeding good , pretty\n",
      "first day . Emma ' s sense of right however had decided it ; and besides the co\n",
      "le fatigued . I could have wished , however , as you know , that you had seen M\n",
      "\" Our little friend Harriet Smith , however , is just such another pretty kind \n",
      "Displaying 25 of 131 matches:\n",
      " her many enjoyments . The danger , however , was at present so unperceived , t\n",
      "ion would offend . Miss Churchill , however , being of age , and with the full \n",
      "n . From the expense of the child , however , he was soon relieved . The boy ha\n",
      " -- and been very well brought up . However , I do not mean to set up my opinio\n",
      "f and predict . It was not likely , however , that any body should have equalle\n",
      "to be borne . We will not despair , however . Weston may grow cross from the wa\n",
      "is so very handsome and agreeable . However , I do really think Mr . Martin a v\n",
      " accepted after all . This letter , however , was written , and sealed , and se\n",
      "e him .\" \" And if I did , ( which , however , I am far from allowing ) I should\n",
      " slightingly . Waiving that point , however , and supposing her to be , as you \n",
      "e was not so materially cast down , however , but that a little time and the re\n",
      "ld inspire him .\" The very next day however produced some proof of inspiration \n",
      "and staid to look through herself ; however , she called me back presently , an\n",
      "t turn up . His ostensible reason , however , was to ask whether Mr . Woodhouse\n",
      "l and cross . This does not apply , however , to Miss Bates ; she is only too g\n",
      "and sufferings of the poor family , however , were the first subject on meeting\n",
      "ting for her . She gained on them , however , involuntarily : the child ' s pac\n",
      "ould close it . It was not closed , however , it still remained ajar ; but by e\n",
      " believes himself secure .\" Still , however , though every thing had not been a\n",
      "ght advance rapidly if they would , however ; they must advance somehow or othe\n",
      " offence came not . The beginning , however , of every visit displayed none but\n",
      "eed !-- and my memory is very bad . However , it was an exceeding good , pretty\n",
      "first day . Emma ' s sense of right however had decided it ; and besides the co\n",
      "le fatigued . I could have wished , however , as you know , that you had seen M\n",
      "\" Our little friend Harriet Smith , however , is just such another pretty kind \n",
      "Displaying 25 of 89 matches:\n",
      "onceited , silly father . She had , however , one very intimate friend , a sens\n",
      "early custom . But these measures , however good in themselves , were insuffici\n",
      "ellynch Hall was to be let . This , however , was a profound secret , not to be\n",
      "t immediate neighbourhood , which , however , had not suited him ; that acciden\n",
      "e dues of a tenant . It succeeded , however ; and though Sir Walter must ever l\n",
      "h , the former curate of Monkford , however suspicious appearances may be , but\n",
      "good character and appearance ; and however Lady Russell might have asked yet f\n",
      "siness no evil . She was assisted , however , by that perfect indifference and \n",
      "h the others . Something occurred , however , to give her a different duty . Ma\n",
      " , but can never alter plain ones . However , at any rate , as I have a great d\n",
      "l what is due to you as my sister . However , we may as well go and sit with th\n",
      "o means of her going . She wished , however to see the Crofts , and was glad to\n",
      "ithout any approach to coarseness , however , or any want of good humour . Anne\n",
      "ll be in question . She could not , however , reach such a degree of certainty \n",
      "al to Anne ' s nerves . She found , however , that it was one to which she must\n",
      "re gone , she hoped , to be happy , however oddly constructed such happiness mi\n",
      "once more in the same room . Soon , however , she began to reason with herself \n",
      " ! It would be but a new creation , however , and I never think much of your ne\n",
      "rove of Uppercross .\" Her husband , however , would not agree with her here ; f\n",
      "re presently .\" Captain Wentworth , however , came from his window , apparently\n",
      "d Walter stir . In another moment , however , she found herself in the state of\n",
      " at once . After a short struggle , however , Charles Hayter seemed to quit the\n",
      "rything being to be done together , however undesired and inconvenient . She tr\n",
      " , nobody answered her . Winthrop , however , or its environs -- for young men \n",
      "fore they were beyond her hearing , however , Louisa spoke again . \" Mary is go\n",
      "Displaying 25 of 89 matches:\n",
      "onceited , silly father . She had , however , one very intimate friend , a sens\n",
      "early custom . But these measures , however good in themselves , were insuffici\n",
      "ellynch Hall was to be let . This , however , was a profound secret , not to be\n",
      "t immediate neighbourhood , which , however , had not suited him ; that acciden\n",
      "e dues of a tenant . It succeeded , however ; and though Sir Walter must ever l\n",
      "h , the former curate of Monkford , however suspicious appearances may be , but\n",
      "good character and appearance ; and however Lady Russell might have asked yet f\n",
      "siness no evil . She was assisted , however , by that perfect indifference and \n",
      "h the others . Something occurred , however , to give her a different duty . Ma\n",
      " , but can never alter plain ones . However , at any rate , as I have a great d\n",
      "l what is due to you as my sister . However , we may as well go and sit with th\n",
      "o means of her going . She wished , however to see the Crofts , and was glad to\n",
      "ithout any approach to coarseness , however , or any want of good humour . Anne\n",
      "ll be in question . She could not , however , reach such a degree of certainty \n",
      "al to Anne ' s nerves . She found , however , that it was one to which she must\n",
      "re gone , she hoped , to be happy , however oddly constructed such happiness mi\n",
      "once more in the same room . Soon , however , she began to reason with herself \n",
      " ! It would be but a new creation , however , and I never think much of your ne\n",
      "rove of Uppercross .\" Her husband , however , would not agree with her here ; f\n",
      "re presently .\" Captain Wentworth , however , came from his window , apparently\n",
      "d Walter stir . In another moment , however , she found herself in the state of\n",
      " at once . After a short struggle , however , Charles Hayter seemed to quit the\n",
      "rything being to be done together , however undesired and inconvenient . She tr\n",
      " , nobody answered her . Winthrop , however , or its environs -- for young men \n",
      "fore they were beyond her hearing , however , Louisa spoke again . \" Mary is go\n",
      "Displaying 25 of 155 matches:\n",
      "hters . He meant not to be unkind , however , and , as a mark of his affection \n",
      "e condition of visitors . As such , however , they were treated by her with qui\n",
      "le .\" His wife hesitated a little , however , in giving her consent to this pla\n",
      "urned Mrs . John Dashwood . \" But , however , ONE thing must be considered . Wh\n",
      " can ever afford to live in . But , however , so it is . Your father thought on\n",
      "ce inquiry or remark . Conversation however was not wanted , for Sir John was v\n",
      "sary to the happiness of both ; for however dissimilar in temper and outward be\n",
      "al engagements at home and abroad , however , supplied all the deficiencies of \n",
      "s silent and grave . His appearance however was not unpleasing , in spite of hi\n",
      "n their own house . One consolation however remained for them , to which the ex\n",
      " in the country ? That is good news however ; I will ride over tomorrow , and a\n",
      " ever so rich . I am glad to find , however , from what you say , that he is a \n",
      "t to the excellence of such works , however disregarded before . Their taste wa\n",
      "ly excited by her sister ; and that however a general resemblance of dispositio\n",
      "d Marianne . \" Do not boast of it , however ,\" said Elinor , \" for it is injust\n",
      "t will be any satisfaction to you , however , to be told , that I believe his c\n",
      "wo wives , I know not . A few years however will settle her opinions on the rea\n",
      "n his side impossible . His concern however was very apparent ; and after expre\n",
      "d her husband and mother . The idea however started by her , was immediately pu\n",
      " are determined on anything . But , however , I hope you will think better of i\n",
      " I can guess what his business is , however ,\" said Mrs . Jennings exultingly .\n",
      "o unfortunate an event ; concluding however by observing , that as they were al\n",
      "r . Willoughby .\" \" Mr . Willoughby however is the only person who can have a r\n",
      "sed in him . There is great truth , however , in what you have now urged of the\n",
      "iced by him .\" \" Do not blame him , however , for departing from his character \n",
      "Displaying 25 of 155 matches:\n",
      "hters . He meant not to be unkind , however , and , as a mark of his affection \n",
      "e condition of visitors . As such , however , they were treated by her with qui\n",
      "le .\" His wife hesitated a little , however , in giving her consent to this pla\n",
      "urned Mrs . John Dashwood . \" But , however , ONE thing must be considered . Wh\n",
      " can ever afford to live in . But , however , so it is . Your father thought on\n",
      "ce inquiry or remark . Conversation however was not wanted , for Sir John was v\n",
      "sary to the happiness of both ; for however dissimilar in temper and outward be\n",
      "al engagements at home and abroad , however , supplied all the deficiencies of \n",
      "s silent and grave . His appearance however was not unpleasing , in spite of hi\n",
      "n their own house . One consolation however remained for them , to which the ex\n",
      " in the country ? That is good news however ; I will ride over tomorrow , and a\n",
      " ever so rich . I am glad to find , however , from what you say , that he is a \n",
      "t to the excellence of such works , however disregarded before . Their taste wa\n",
      "ly excited by her sister ; and that however a general resemblance of dispositio\n",
      "d Marianne . \" Do not boast of it , however ,\" said Elinor , \" for it is injust\n",
      "t will be any satisfaction to you , however , to be told , that I believe his c\n",
      "wo wives , I know not . A few years however will settle her opinions on the rea\n",
      "n his side impossible . His concern however was very apparent ; and after expre\n",
      "d her husband and mother . The idea however started by her , was immediately pu\n",
      " are determined on anything . But , however , I hope you will think better of i\n",
      " I can guess what his business is , however ,\" said Mrs . Jennings exultingly .\n",
      "o unfortunate an event ; concluding however by observing , that as they were al\n",
      "r . Willoughby .\" \" Mr . Willoughby however is the only person who can have a r\n",
      "sed in him . There is great truth , however , in what you have now urged of the\n",
      "iced by him .\" \" Do not blame him , however , for departing from his character \n",
      "No matches\n",
      "No matches\n",
      "No matches\n",
      "No matches\n",
      "Displaying 5 of 5 matches:\n",
      "Tiger , \" and I shall eat you up .\" However , the Brahmin argued so hard that a\n",
      "ait . At last he did persuade him , however , and they walked on together . And\n",
      "as slower than he . After a while , however , he pushed his way out of the wood\n",
      "t he could do nothing . Presently , however , a happy fancy came to him . Was n\n",
      "ellow merely apes and imitates ME . However , it is some small consolation to r\n",
      "Displaying 5 of 5 matches:\n",
      "Tiger , \" and I shall eat you up .\" However , the Brahmin argued so hard that a\n",
      "ait . At last he did persuade him , however , and they walked on together . And\n",
      "as slower than he . After a while , however , he pushed his way out of the wood\n",
      "t he could do nothing . Presently , however , a happy fancy came to him . Was n\n",
      "ellow merely apes and imitates ME . However , it is some small consolation to r\n",
      "Displaying 1 of 1 matches:\n",
      "ound to overhear . It ' s a habit . However , it isn ' t a bad habit unless it \n",
      "Displaying 1 of 1 matches:\n",
      "ound to overhear . It ' s a habit . However , it isn ' t a bad habit unless it \n",
      "Displaying 20 of 20 matches:\n",
      "ate it would not open any of them . However , on the second time round , she ca\n",
      "sagree with you , sooner or later . However , this bottle was NOT marked ' pois\n",
      "r into that lovely garden . First , however , she waited for a few minutes to s\n",
      " never get to twenty at that rate ! However , the Multiplication Table doesn ' \n",
      "nd behind them a railway station .) However , she soon made out that she was in\n",
      "ILL be a queer thing , to be sure ! However , everything is queer to - day .' J\n",
      "sy to know when the race was over . However , when they had been running half a\n",
      " and had to be patted on the back . However , it was over at last , and they sa\n",
      "ow - spirited . In a little while , however , she again heard a little patterin\n",
      "nd this a very difficult question . However , at last she stretched her arms ro\n",
      "o be , from one minute to another ! However , I ' ve got back to my right size \n",
      "ow whether it would like the name : however , it only grinned a little wider . \n",
      "n ' t think that proved it at all ; however , she went on ' And how do you know\n",
      " !' said the Dormouse indignantly . However , he consented to go on . ' And so \n",
      " , tumbling up against each other ; however , they got settled down in a minute\n",
      "k of it at all ,' said the King : ' however , it may kiss my hand if it likes .\n",
      "t was an uncomfortably sharp chin . However , she did not like to be rude , so \n",
      "e , and were resting in the shade : however , the moment they saw her , they hu\n",
      "ght as well be at school at once .' However , she got up , and began to repeat \n",
      "age knew the meaning of it at all . However , ' jury - men ' would have done ju\n",
      "Displaying 20 of 20 matches:\n",
      "ate it would not open any of them . However , on the second time round , she ca\n",
      "sagree with you , sooner or later . However , this bottle was NOT marked ' pois\n",
      "r into that lovely garden . First , however , she waited for a few minutes to s\n",
      " never get to twenty at that rate ! However , the Multiplication Table doesn ' \n",
      "nd behind them a railway station .) However , she soon made out that she was in\n",
      "ILL be a queer thing , to be sure ! However , everything is queer to - day .' J\n",
      "sy to know when the race was over . However , when they had been running half a\n",
      " and had to be patted on the back . However , it was over at last , and they sa\n",
      "ow - spirited . In a little while , however , she again heard a little patterin\n",
      "nd this a very difficult question . However , at last she stretched her arms ro\n",
      "o be , from one minute to another ! However , I ' ve got back to my right size \n",
      "ow whether it would like the name : however , it only grinned a little wider . \n",
      "n ' t think that proved it at all ; however , she went on ' And how do you know\n",
      " !' said the Dormouse indignantly . However , he consented to go on . ' And so \n",
      " , tumbling up against each other ; however , they got settled down in a minute\n",
      "k of it at all ,' said the King : ' however , it may kiss my hand if it likes .\n",
      "t was an uncomfortably sharp chin . However , she did not like to be rude , so \n",
      "e , and were resting in the shade : however , the moment they saw her , they hu\n",
      "ght as well be at school at once .' However , she got up , and began to repeat \n",
      "age knew the meaning of it at all . However , ' jury - men ' would have done ju\n",
      "Displaying 25 of 35 matches:\n",
      "siderably improved it . There was , however , another man on board , so to spea\n",
      "in our Western civilization , had , however , as I have said , made himself qui\n",
      "downstairs . Michael followed him , however , if only out of politeness , down \n",
      "iasts . They were more respectful , however , to the young man who had smashed \n",
      "ular business . It may be excused , however , as a mere preliminary to further \n",
      "as rubbish . In case of accidents , however , I must bind you over to keep the \n",
      "l . When the cabman saw his fares , however , two wild - haired men in their sh\n",
      "an only represent what is unusual . However democratic they may be , they are o\n",
      "ifference ,\" said Turnbull , \" that however elaborate be the calculations of ph\n",
      "ways admired the Catholic virtues , however little it can practise them ; and o\n",
      "but echoing violence . The fourth , however , had already advanced on the chauf\n",
      "ow glorious !\" said MacIan . When , however , they had come into the wide hollo\n",
      "nt or two of desperate clambering , however , there were two people in it , Mr \n",
      "empty fishing - boat he recovered , however , stirred , stretched himself , and\n",
      "d . Caught upon its prickly angle , however , there was a very small and very d\n",
      " had not touched each other twice , however , when upon the hill , above the cr\n",
      "erted hill in France . He did not , however , have to puzzle long . Before the \n",
      " to be morally a lazy one . It is , however , certain that the work of her hous\n",
      "t she ever spoke . He haunted her , however ; especially at church , which was \n",
      "f her . In a clearing of the wood , however , which was lit up with a last patc\n",
      " the children make . In one place , however , the coast offered a soft , smooth\n",
      "ite hastily . Before he descended , however , he fixed the two swords upright ,\n",
      "irst sign of life that he did see , however , was something more extraordinary \n",
      "t the sky . Even at that distance , however , there was something odd about his\n",
      "grass . They had no easy business , however ; for the bottle which they had so \n",
      "Displaying 25 of 35 matches:\n",
      "siderably improved it . There was , however , another man on board , so to spea\n",
      "in our Western civilization , had , however , as I have said , made himself qui\n",
      "downstairs . Michael followed him , however , if only out of politeness , down \n",
      "iasts . They were more respectful , however , to the young man who had smashed \n",
      "ular business . It may be excused , however , as a mere preliminary to further \n",
      "as rubbish . In case of accidents , however , I must bind you over to keep the \n",
      "l . When the cabman saw his fares , however , two wild - haired men in their sh\n",
      "an only represent what is unusual . However democratic they may be , they are o\n",
      "ifference ,\" said Turnbull , \" that however elaborate be the calculations of ph\n",
      "ways admired the Catholic virtues , however little it can practise them ; and o\n",
      "but echoing violence . The fourth , however , had already advanced on the chauf\n",
      "ow glorious !\" said MacIan . When , however , they had come into the wide hollo\n",
      "nt or two of desperate clambering , however , there were two people in it , Mr \n",
      "empty fishing - boat he recovered , however , stirred , stretched himself , and\n",
      "d . Caught upon its prickly angle , however , there was a very small and very d\n",
      " had not touched each other twice , however , when upon the hill , above the cr\n",
      "erted hill in France . He did not , however , have to puzzle long . Before the \n",
      " to be morally a lazy one . It is , however , certain that the work of her hous\n",
      "t she ever spoke . He haunted her , however ; especially at church , which was \n",
      "f her . In a clearing of the wood , however , which was lit up with a last patc\n",
      " the children make . In one place , however , the coast offered a soft , smooth\n",
      "ite hastily . Before he descended , however , he fixed the two swords upright ,\n",
      "irst sign of life that he did see , however , was something more extraordinary \n",
      "t the sky . Even at that distance , however , there was something odd about his\n",
      "grass . They had no easy business , however ; for the bottle which they had so \n",
      "Displaying 22 of 22 matches:\n",
      " around the room told him at once , however , that the English party had not de\n",
      " headlands like a lasso . And yet , however high they went , the desert still b\n",
      "e Cato .\" The King of Thieves was , however , continuing his address with the s\n",
      "rself ; go on .\" \" All my riddles , however , revolve round our bandit chief ,\"\n",
      " To their party throughout Europe , however , Paul Hirsch was a saint of scienc\n",
      "inary French officer . His French , however , was obviously that of a native ; \n",
      "inkling , twilit trees . The Duke , however stimulated , had the instincts of a\n",
      "ual coolness and confidence . Not , however , with equal speed ; but the man wh\n",
      "jealousy . In about half a minute , however , the inner door opened , and she e\n",
      "n Noah out of an ark . He did not , however , seem conscious of any contrast , \n",
      " distinctly ?\" Sir Wilson Seymour , however moved , had his excellent brains in\n",
      "ent . The unfortunate officer had , however , been hurled from the high wall , \n",
      "nd - dunes . Mere figure and gait , however distant , are more likely to remind\n",
      "e of a family lawyer . His lawyer , however , had the sense to cheat honestly ,\n",
      "n . About this particular evening , however , there was something exceptional .\n",
      "enough for the priest to see that , however old - fashioned , it was a comforta\n",
      "ty mug of the pantomime . In this , however , they were not altogether confirme\n",
      " tumbler of cold water . His talk , however , was exuberant . \" I ' ll tell you\n",
      " did a bit more hustling .\" Those , however , who mock American journalism from\n",
      "he name on the narrow wooden gate , however , and seeing by his watch that the \n",
      "over that -- that bloody collapse . However , the main point is that before hel\n",
      "iasm in her family . All the same , however romantic you are , you can ' t imag\n",
      "Displaying 22 of 22 matches:\n",
      " around the room told him at once , however , that the English party had not de\n",
      " headlands like a lasso . And yet , however high they went , the desert still b\n",
      "e Cato .\" The King of Thieves was , however , continuing his address with the s\n",
      "rself ; go on .\" \" All my riddles , however , revolve round our bandit chief ,\"\n",
      " To their party throughout Europe , however , Paul Hirsch was a saint of scienc\n",
      "inary French officer . His French , however , was obviously that of a native ; \n",
      "inkling , twilit trees . The Duke , however stimulated , had the instincts of a\n",
      "ual coolness and confidence . Not , however , with equal speed ; but the man wh\n",
      "jealousy . In about half a minute , however , the inner door opened , and she e\n",
      "n Noah out of an ark . He did not , however , seem conscious of any contrast , \n",
      " distinctly ?\" Sir Wilson Seymour , however moved , had his excellent brains in\n",
      "ent . The unfortunate officer had , however , been hurled from the high wall , \n",
      "nd - dunes . Mere figure and gait , however distant , are more likely to remind\n",
      "e of a family lawyer . His lawyer , however , had the sense to cheat honestly ,\n",
      "n . About this particular evening , however , there was something exceptional .\n",
      "enough for the priest to see that , however old - fashioned , it was a comforta\n",
      "ty mug of the pantomime . In this , however , they were not altogether confirme\n",
      " tumbler of cold water . His talk , however , was exuberant . \" I ' ll tell you\n",
      " did a bit more hustling .\" Those , however , who mock American journalism from\n",
      "he name on the narrow wooden gate , however , and seeing by his watch that the \n",
      "over that -- that bloody collapse . However , the main point is that before hel\n",
      "iasm in her family . All the same , however romantic you are , you can ' t imag\n",
      "Displaying 25 of 27 matches:\n",
      "m within this almost saintly oval , however , his face projected suddenly broad\n",
      "ttle man with the black beard was , however , still contracted with something l\n",
      "rd . By the sheer rush of routine , however , the motion would have been put an\n",
      "retary said -- \" We are wandering , however , from the point . The only questio\n",
      " wax lady in evening dress . Snow , however , began to thicken and fall fast ; \n",
      "y or trance . He was not inclined , however , to feel in this case any very com\n",
      ". Somewhere behind Red Lion Court , however , he noticed a place where some ene\n",
      "ouched his milk . One possibility , however , kept him hopeful and yet helpless\n",
      "his satellites , that their faces , however fierce or sinister , became gradual\n",
      "ow . Before I could fully recover , however , two or three of these admirers ra\n",
      "cks during the conversation , which however unobtrusively performed --\" \" Syme \n",
      " simplicity , \" go to bed !\" Syme , however , sat up in bed for a considerable \n",
      ", if we are to act on it . I will , however , relate the occurrence in detail ,\n",
      "rst considerable hurt . Dr . Bull , however , having been carefully coached by \n",
      " . At the end of the four minutes , however , they saw that the Colonel was rig\n",
      " of Attila . Swiftly as they rode , however , the whole rank still kept well to\n",
      "he had three motor - cars . These , however , he seemed to use very sparingly ,\n",
      " the hostility of the place . Now , however , the windows in the houses began o\n",
      ", \" might even call it unpleasant . However , I suppose those lights out in the\n",
      "h the pier . Two or three figures , however , stood on the beginning of the sto\n",
      "ondon . Twenty minutes afterwards , however , he came back and made quite a cla\n",
      "d not see . Before the three cabs , however , could reach up to the spot , he h\n",
      " before they came to Baker Street , however , he was seen to throw something fa\n",
      "e a bulky parcel . On examination , however , its bulk was found to consist of \n",
      "eation of the sun and moon . Here , however , they reckoned from a Christian Su\n",
      "Displaying 25 of 27 matches:\n",
      "m within this almost saintly oval , however , his face projected suddenly broad\n",
      "ttle man with the black beard was , however , still contracted with something l\n",
      "rd . By the sheer rush of routine , however , the motion would have been put an\n",
      "retary said -- \" We are wandering , however , from the point . The only questio\n",
      " wax lady in evening dress . Snow , however , began to thicken and fall fast ; \n",
      "y or trance . He was not inclined , however , to feel in this case any very com\n",
      ". Somewhere behind Red Lion Court , however , he noticed a place where some ene\n",
      "ouched his milk . One possibility , however , kept him hopeful and yet helpless\n",
      "his satellites , that their faces , however fierce or sinister , became gradual\n",
      "ow . Before I could fully recover , however , two or three of these admirers ra\n",
      "cks during the conversation , which however unobtrusively performed --\" \" Syme \n",
      " simplicity , \" go to bed !\" Syme , however , sat up in bed for a considerable \n",
      ", if we are to act on it . I will , however , relate the occurrence in detail ,\n",
      "rst considerable hurt . Dr . Bull , however , having been carefully coached by \n",
      " . At the end of the four minutes , however , they saw that the Colonel was rig\n",
      " of Attila . Swiftly as they rode , however , the whole rank still kept well to\n",
      "he had three motor - cars . These , however , he seemed to use very sparingly ,\n",
      " the hostility of the place . Now , however , the windows in the houses began o\n",
      ", \" might even call it unpleasant . However , I suppose those lights out in the\n",
      "h the pier . Two or three figures , however , stood on the beginning of the sto\n",
      "ondon . Twenty minutes afterwards , however , he came back and made quite a cla\n",
      "d not see . Before the three cabs , however , could reach up to the spot , he h\n",
      " before they came to Baker Street , however , he was seen to throw something fa\n",
      "e a bulky parcel . On examination , however , its bulk was found to consist of \n",
      "eation of the sun and moon . Here , however , they reckoned from a Christian Su\n",
      "Displaying 25 of 72 matches:\n",
      "t them finished fast enough . She , however , in the midst of her hurry , found\n",
      "T WOULD PAY FOR ALL . Goody Grope , however , reached her sixtieth year , witho\n",
      "words she would say . Jem was not , however , a boy to be easily discouraged ; \n",
      "ce grew every day worse and worse . However , some of the neighbours said that \n",
      "ad time enough to sell them . Now , however , he set about the task ; and havin\n",
      "lf the morning was lost . At last , however , finding himself the master of thr\n",
      " a scheme for making mats , which , however bold it may appear , he did not des\n",
      "of fruitless attempts . The sixth , however , repaid him for the labours of the\n",
      "' em RIGHTLY .\" Everybody thought , however , that they had been thanked RIGHTL\n",
      "in the house . We shall pass over , however important as they were deemed at th\n",
      "n . She smothered her displeasure , however , till night ; when , as she attend\n",
      "val the admiration of the kitchen . However , upon calling to mind all that his\n",
      "nce . The hour of retribution was , however , not so far off as Felix imagined \n",
      "beef in the basket ; not entirely , however , with the same success ; for Felix\n",
      "re drinking in the room . The men , however , took part with Corkscrew , and , \n",
      "e talked in that manner . Nothing , however , that he could urge made any impre\n",
      "s he could invent . Mrs . Pomfret , however , though sometimes blinded by her p\n",
      "thout meaning to tell a falsehood , however ,\" said the lady , \" he might make \n",
      "was not robust . She earned money , however , by taking in plain work ; and she\n",
      "r which had been prepared for him ; however , with a faint smile , he told Susa\n",
      "twinkling away a tear . When Rose , however , learnt that her friend ' s guinea\n",
      "s own cottage with resolute steps , however , and went through the village in s\n",
      " than a downright simpleton . But , however , simple or not , I ' ll get what I\n",
      "usiness . He constantly perceived , however , that he could not impose upon Sir\n",
      "\" said Susan , steadily . As soon , however , as her persecutor turned his back\n",
      "Displaying 25 of 72 matches:\n",
      "t them finished fast enough . She , however , in the midst of her hurry , found\n",
      "T WOULD PAY FOR ALL . Goody Grope , however , reached her sixtieth year , witho\n",
      "words she would say . Jem was not , however , a boy to be easily discouraged ; \n",
      "ce grew every day worse and worse . However , some of the neighbours said that \n",
      "ad time enough to sell them . Now , however , he set about the task ; and havin\n",
      "lf the morning was lost . At last , however , finding himself the master of thr\n",
      " a scheme for making mats , which , however bold it may appear , he did not des\n",
      "of fruitless attempts . The sixth , however , repaid him for the labours of the\n",
      "' em RIGHTLY .\" Everybody thought , however , that they had been thanked RIGHTL\n",
      "in the house . We shall pass over , however important as they were deemed at th\n",
      "n . She smothered her displeasure , however , till night ; when , as she attend\n",
      "val the admiration of the kitchen . However , upon calling to mind all that his\n",
      "nce . The hour of retribution was , however , not so far off as Felix imagined \n",
      "beef in the basket ; not entirely , however , with the same success ; for Felix\n",
      "re drinking in the room . The men , however , took part with Corkscrew , and , \n",
      "e talked in that manner . Nothing , however , that he could urge made any impre\n",
      "s he could invent . Mrs . Pomfret , however , though sometimes blinded by her p\n",
      "thout meaning to tell a falsehood , however ,\" said the lady , \" he might make \n",
      "was not robust . She earned money , however , by taking in plain work ; and she\n",
      "r which had been prepared for him ; however , with a faint smile , he told Susa\n",
      "twinkling away a tear . When Rose , however , learnt that her friend ' s guinea\n",
      "s own cottage with resolute steps , however , and went through the village in s\n",
      " than a downright simpleton . But , however , simple or not , I ' ll get what I\n",
      "usiness . He constantly perceived , however , that he could not impose upon Sir\n",
      "\" said Susan , steadily . As soon , however , as her persecutor turned his back\n",
      "Displaying 25 of 95 matches:\n",
      "gledy - piggledy whale statements , however authentic , in these extracts , for\n",
      "lave ? Tell me that . Well , then , however the old sea - captains may order me\n",
      "ea - captains may order me about -- however they may thump and punch me about ,\n",
      " needs be the sign of \" The Trap .\" However , I picked myself up and hearing a \n",
      " the conclusion that such an idea , however wild , might not be altogether unwa\n",
      " most obstreperously . I observed , however , that one of them held somewhat al\n",
      "ade on the sea . In a few minutes , however , he was missed by his shipmates , \n",
      "bag ' s mouth . This accomplished , however , he turned round -- when , good he\n",
      "te man into a purplish yellow one . However , I had never been in the South Sea\n",
      "tle in the matter of my bedfellow . However , a good laugh is a mighty good thi\n",
      "ight of the water it had absorbed . However , hat and coat and overshoes were o\n",
      "pulpit , it had not escaped me that however convenient for a ship , these joint\n",
      "lf baptized again . For the nonce , however , he proposed to sail about , and s\n",
      " own and comrade ' s bill ; using , however , my comrade ' s money . The grinni\n",
      "in to say it was on the starboard . However , by dint of beating about a little\n",
      "a supper for us both on one clam ?\" However , a warm savory steam from the kitc\n",
      " owners till all is ready for sea . However , it is always as well to have a lo\n",
      "fectly as he was known to me then . However , my thoughts were at length carrie\n",
      " I got down our traps , resolving , however , to sleep ashore till the last . B\n",
      " em !\" \" No need of profane words , however great the hurry , Peleg ,\" said Bil\n",
      "a pilot . I was comforting myself , however , with the thought that in pious Bi\n",
      "isely -- who knows ? Certain I am , however , that a king ' s head is solemnly \n",
      "o scientific description . As yet , however , the sperm whale , scientific or p\n",
      "IZONTAL TAIL . There you have him . However contracted , that definition is the\n",
      "several varieties , most of which , however , are little known . Broad - nosed \n",
      "Displaying 25 of 95 matches:\n",
      "gledy - piggledy whale statements , however authentic , in these extracts , for\n",
      "lave ? Tell me that . Well , then , however the old sea - captains may order me\n",
      "ea - captains may order me about -- however they may thump and punch me about ,\n",
      " needs be the sign of \" The Trap .\" However , I picked myself up and hearing a \n",
      " the conclusion that such an idea , however wild , might not be altogether unwa\n",
      " most obstreperously . I observed , however , that one of them held somewhat al\n",
      "ade on the sea . In a few minutes , however , he was missed by his shipmates , \n",
      "bag ' s mouth . This accomplished , however , he turned round -- when , good he\n",
      "te man into a purplish yellow one . However , I had never been in the South Sea\n",
      "tle in the matter of my bedfellow . However , a good laugh is a mighty good thi\n",
      "ight of the water it had absorbed . However , hat and coat and overshoes were o\n",
      "pulpit , it had not escaped me that however convenient for a ship , these joint\n",
      "lf baptized again . For the nonce , however , he proposed to sail about , and s\n",
      " own and comrade ' s bill ; using , however , my comrade ' s money . The grinni\n",
      "in to say it was on the starboard . However , by dint of beating about a little\n",
      "a supper for us both on one clam ?\" However , a warm savory steam from the kitc\n",
      " owners till all is ready for sea . However , it is always as well to have a lo\n",
      "fectly as he was known to me then . However , my thoughts were at length carrie\n",
      " I got down our traps , resolving , however , to sleep ashore till the last . B\n",
      " em !\" \" No need of profane words , however great the hurry , Peleg ,\" said Bil\n",
      "a pilot . I was comforting myself , however , with the thought that in pious Bi\n",
      "isely -- who knows ? Certain I am , however , that a king ' s head is solemnly \n",
      "o scientific description . As yet , however , the sperm whale , scientific or p\n",
      "IZONTAL TAIL . There you have him . However contracted , that definition is the\n",
      "several varieties , most of which , however , are little known . Broad - nosed \n",
      "Displaying 9 of 9 matches:\n",
      " wise he judges it to fly from pain However , and to ' scape his punishment ! S\n",
      "truct his sight , Star interposed , however small he sees , Not unconformed to \n",
      "f into the Hell Thou fablest ; here however to dwell free , If not to reign : M\n",
      " back perverse : But that I doubt ; however witness , Heaven ! Heaven , witness\n",
      "the ways Of highest agents , deemed however wise . Queen of this universe ! do \n",
      "f scorn , not to be given the Foe . However I with thee have fixed my lot , Cer\n",
      "n my head both sin and punishment , However insupportable , be all Devolved ; t\n",
      "pride , and joy , for Man seduced . However , some tradition they dispersed Amo\n",
      " and to the hand of Heaven submit , However chastening ; to the evil turn My ob\n",
      "Displaying 9 of 9 matches:\n",
      " wise he judges it to fly from pain However , and to ' scape his punishment ! S\n",
      "truct his sight , Star interposed , however small he sees , Not unconformed to \n",
      "f into the Hell Thou fablest ; here however to dwell free , If not to reign : M\n",
      " back perverse : But that I doubt ; however witness , Heaven ! Heaven , witness\n",
      "the ways Of highest agents , deemed however wise . Queen of this universe ! do \n",
      "f scorn , not to be given the Foe . However I with thee have fixed my lot , Cer\n",
      "n my head both sin and punishment , However insupportable , be all Devolved ; t\n",
      "pride , and joy , for Man seduced . However , some tradition they dispersed Amo\n",
      " and to the hand of Heaven submit , However chastening ; to the evil turn My ob\n",
      "No matches\n",
      "No matches\n",
      "No matches\n",
      "No matches\n",
      "No matches\n",
      "No matches\n",
      "Displaying 12 of 12 matches:\n",
      "like One including and over all , ( However high the head of any else that head\n",
      " . Allons ! we must not stop here , However sweet these laid - up stores , howe\n",
      "ever sweet these laid - up stores , however convenient this dwelling we cannot \n",
      "is dwelling we cannot remain here , However shelter ' d this port and however c\n",
      ", However shelter ' d this port and however calm these waters we must not ancho\n",
      "se waters we must not anchor here , However welcome the hospitality that surrou\n",
      "and pass it , To conceive no time , however distant , but what you may reach it\n",
      "ut it stretches and waits for you , however long but it stretches and waits for\n",
      " , planets , All distances of place however wide , All distances of time , all \n",
      "hou wouldst not really sell thyself however great the price , In that thou sure\n",
      "im recesses , Acknowledging rapport however far remov ' d , ( As some old root \n",
      "n to its divine source and origin , however distant , Latent the same in subjec\n",
      "Displaying 12 of 12 matches:\n",
      "like One including and over all , ( However high the head of any else that head\n",
      " . Allons ! we must not stop here , However sweet these laid - up stores , howe\n",
      "ever sweet these laid - up stores , however convenient this dwelling we cannot \n",
      "is dwelling we cannot remain here , However shelter ' d this port and however c\n",
      ", However shelter ' d this port and however calm these waters we must not ancho\n",
      "se waters we must not anchor here , However welcome the hospitality that surrou\n",
      "and pass it , To conceive no time , however distant , but what you may reach it\n",
      "ut it stretches and waits for you , however long but it stretches and waits for\n",
      " , planets , All distances of place however wide , All distances of time , all \n",
      "hou wouldst not really sell thyself however great the price , In that thou sure\n",
      "im recesses , Acknowledging rapport however far remov ' d , ( As some old root \n",
      "n to its divine source and origin , however distant , Latent the same in subjec\n"
     ]
    }
   ],
   "source": [
    "searchwords={}\n",
    "for file in gutenberg.fileids():\n",
    "    txt=nltk.Text(gutenberg.words(file))\n",
    "    txt.concordance(\"However\")\n",
    "    txt.concordance(\"however\")"
   ]
  },
  {
   "cell_type": "code",
   "execution_count": 99,
   "metadata": {
    "collapsed": false
   },
   "outputs": [
    {
     "name": "stdout",
     "output_type": "stream",
     "text": [
      "<class 'generator'>\n"
     ]
    }
   ],
   "source": [
    "zz=wn.all_synsets('n')\n"
   ]
  },
  {
   "cell_type": "code",
   "execution_count": 51,
   "metadata": {
    "collapsed": false
   },
   "outputs": [],
   "source": [
    "from nltk.corpus import wordnet as wn\n",
    "items=wn.synsets(\"comprehensive\")\n",
    "items2=wn.synsets(\"all-embracing\")"
   ]
  },
  {
   "cell_type": "code",
   "execution_count": 54,
   "metadata": {
    "collapsed": false
   },
   "outputs": [
    {
     "name": "stdout",
     "output_type": "stream",
     "text": [
      "broad in scope or content\n"
     ]
    }
   ],
   "source": [
    "for item in items:\n",
    "    print(item.definition())\n",
    "for item in items2:\n",
    "    print(item.definition())"
   ]
  },
  {
   "cell_type": "code",
   "execution_count": 31,
   "metadata": {
    "collapsed": false
   },
   "outputs": [
    {
     "data": {
      "text/plain": [
       "9"
      ]
     },
     "execution_count": 31,
     "metadata": {},
     "output_type": "execute_result"
    }
   ],
   "source": [
    "len(items)"
   ]
  },
  {
   "cell_type": "code",
   "execution_count": 4,
   "metadata": {
    "collapsed": true
   },
   "outputs": [],
   "source": [
    "kim={'CAT': 'NP', 'ORTH': 'Kim', 'REF': 'k'}\n",
    "chase = {'CAT': 'V', 'ORTH': 'chased', 'REL': 'chase'}\n",
    "chase['AGT'] = 'sbj'\n",
    "chase['PAT'] = 'obj'"
   ]
  },
  {
   "cell_type": "code",
   "execution_count": 5,
   "metadata": {
    "collapsed": true
   },
   "outputs": [],
   "source": [
    "sent=\"Kim chased Lee\"\n",
    "tokens=sent.split()\n",
    "lee={'CAT': 'NP', 'ORTH': 'Lee', 'REF': 'l'}\n",
    "def lex2fs(word):\n",
    "    for fs in [kim,lee,chase]:\n",
    "        if fs['ORTH']==word:\n",
    "            return fs"
   ]
  },
  {
   "cell_type": "code",
   "execution_count": 8,
   "metadata": {
    "collapsed": false
   },
   "outputs": [
    {
     "name": "stdout",
     "output_type": "stream",
     "text": [
      "ORTH chased\n",
      "REL chase\n",
      "AGT k\n",
      "PAT l\n"
     ]
    }
   ],
   "source": [
    "subj, verb, obj = lex2fs(tokens[0]), lex2fs(tokens[1]), lex2fs(tokens[2])\n",
    "verb['AGT'] = subj['REF'] # agent of 'chase' is Kim \n",
    "verb['PAT'] = obj['REF']  # patient of 'chase' is Lee \n",
    "for k in ['ORTH', 'REL', 'AGT', 'PAT']:\n",
    "    print(k, verb[k])"
   ]
  },
  {
   "cell_type": "code",
   "execution_count": 11,
   "metadata": {
    "collapsed": false
   },
   "outputs": [
    {
     "name": "stdout",
     "output_type": "stream",
     "text": [
      "{'ORTH': 'Kim', 'CAT': 'NP', 'REF': 'k'}\n",
      "{'ORTH': 'chased', 'REL': 'chase', 'CAT': 'V', 'AGT': 'k', 'PAT': 'l'}\n",
      "{'ORTH': 'Lee', 'CAT': 'NP', 'REF': 'l'}\n"
     ]
    }
   ],
   "source": [
    "print(subj)\n",
    "print(verb)\n",
    "print(obj)"
   ]
  },
  {
   "cell_type": "code",
   "execution_count": 12,
   "metadata": {
    "collapsed": false
   },
   "outputs": [
    {
     "name": "stdout",
     "output_type": "stream",
     "text": [
      "[ NUM   = 'sg'   ]\n",
      "[ TENSE = 'past' ]\n"
     ]
    }
   ],
   "source": [
    "fs1=nltk.FeatStruct(TENSE='past',NUM='sg')\n",
    "print(fs1)"
   ]
  },
  {
   "cell_type": "code",
   "execution_count": 13,
   "metadata": {
    "collapsed": false
   },
   "outputs": [
    {
     "name": "stdout",
     "output_type": "stream",
     "text": [
      "fem\n"
     ]
    }
   ],
   "source": [
    "fs1 = nltk.FeatStruct(PER=3, NUM='pl', GND='fem')\n",
    "print(fs1['GND'])\n",
    "fs1['CASE'] = 'acc'"
   ]
  },
  {
   "cell_type": "code",
   "execution_count": 14,
   "metadata": {
    "collapsed": false
   },
   "outputs": [
    {
     "name": "stdout",
     "output_type": "stream",
     "text": [
      "[       [ CASE = 'acc' ] ]\n",
      "[ AGR = [ GND  = 'fem' ] ]\n",
      "[       [ NUM  = 'pl'  ] ]\n",
      "[       [ PER  = 3     ] ]\n",
      "[                        ]\n",
      "[ POS = 'N'              ]\n"
     ]
    }
   ],
   "source": [
    "fs2 = nltk.FeatStruct(POS='N', AGR=fs1)\n",
    "print(fs2)"
   ]
  },
  {
   "cell_type": "code",
   "execution_count": 16,
   "metadata": {
    "collapsed": false
   },
   "outputs": [
    {
     "name": "stdout",
     "output_type": "stream",
     "text": [
      "[ CASE = 'acc' ]\n",
      "[ GND  = 'fem' ]\n",
      "[ NUM  = 'pl'  ]\n",
      "[ PER  = 3     ]\n"
     ]
    }
   ],
   "source": [
    "print(fs2['AGR'] )"
   ]
  },
  {
   "cell_type": "code",
   "execution_count": 17,
   "metadata": {
    "collapsed": false
   },
   "outputs": [
    {
     "name": "stdout",
     "output_type": "stream",
     "text": [
      "[ ADDRESS = [ NUMBER = 74           ]               ]\n",
      "[           [ STREET = 'rue Pascal' ]               ]\n",
      "[                                                   ]\n",
      "[ NAME    = 'Lee'                                   ]\n",
      "[                                                   ]\n",
      "[           [ ADDRESS = [ NUMBER = 74           ] ] ]\n",
      "[ SPOUSE  = [           [ STREET = 'rue Pascal' ] ] ]\n",
      "[           [                                     ] ]\n",
      "[           [ NAME    = 'Kim'                     ] ]\n"
     ]
    }
   ],
   "source": [
    "fs0 = nltk.FeatStruct(\"\"\"[NAME=Lee,ADDRESS=[NUMBER=74,STREET='rue Pascal'],SPOUSE= [NAME=Kim,ADDRESS=[NUMBER=74,STREET='rue Pascal']]]\"\"\") \n",
    "print(fs0)"
   ]
  },
  {
   "cell_type": "code",
   "execution_count": 19,
   "metadata": {
    "collapsed": false
   },
   "outputs": [
    {
     "name": "stdout",
     "output_type": "stream",
     "text": [
      "[ ADDRESS = [ NUMBER = 74           ]               ]\n",
      "[           [ STREET = 'rue Pascal' ]               ]\n",
      "[                                                   ]\n",
      "[ NAME    = 'Lee'                                   ]\n",
      "[                                                   ]\n",
      "[           [           [ CITY   = 'Paris'      ] ] ]\n",
      "[           [ ADDRESS = [ NUMBER = 74           ] ] ]\n",
      "[ SPOUSE  = [           [ STREET = 'rue Pascal' ] ] ]\n",
      "[           [                                     ] ]\n",
      "[           [ NAME    = 'Kim'                     ] ]\n"
     ]
    }
   ],
   "source": [
    "fs1 = nltk.FeatStruct(\"[SPOUSE = [ADDRESS = [CITY = Paris]]]\") \n",
    "print(fs1.unify(fs0))"
   ]
  },
  {
   "cell_type": "code",
   "execution_count": 20,
   "metadata": {
    "collapsed": false
   },
   "outputs": [
    {
     "name": "stdout",
     "output_type": "stream",
     "text": [
      "[ SPOUSE = [ ADDRESS = [ CITY = 'Paris' ] ] ]\n"
     ]
    }
   ],
   "source": [
    "print(fs1)"
   ]
  },
  {
   "cell_type": "code",
   "execution_count": 21,
   "metadata": {
    "collapsed": false
   },
   "outputs": [
    {
     "name": "stdout",
     "output_type": "stream",
     "text": [
      "[ ADDRESS = (1) [ NUMBER = 74           ] ]\n",
      "[               [ STREET = 'rue Pascal' ] ]\n",
      "[                                         ]\n",
      "[ NAME    = 'Lee'                         ]\n",
      "[                                         ]\n",
      "[ SPOUSE  = [ ADDRESS -> (1)  ]           ]\n",
      "[           [ NAME    = 'Kim' ]           ]\n"
     ]
    }
   ],
   "source": [
    "fs2=nltk.FeatStruct(\"\"\"[NAME=Lee, ADDRESS=(1)[NUMBER=74, STREET='rue Pascal'],SPOUSE=[NAME=Kim, ADDRESS->(1)]]\"\"\")\n",
    "print(fs2)"
   ]
  },
  {
   "cell_type": "code",
   "execution_count": 22,
   "metadata": {
    "collapsed": false
   },
   "outputs": [
    {
     "name": "stdout",
     "output_type": "stream",
     "text": [
      "[               [ CITY   = 'Paris'      ] ]\n",
      "[ ADDRESS = (1) [ NUMBER = 74           ] ]\n",
      "[               [ STREET = 'rue Pascal' ] ]\n",
      "[                                         ]\n",
      "[ NAME    = 'Lee'                         ]\n",
      "[                                         ]\n",
      "[ SPOUSE  = [ ADDRESS -> (1)  ]           ]\n",
      "[           [ NAME    = 'Kim' ]           ]\n"
     ]
    }
   ],
   "source": [
    "print(fs1.unify(fs2))"
   ]
  },
  {
   "cell_type": "code",
   "execution_count": 23,
   "metadata": {
    "collapsed": false
   },
   "outputs": [
    {
     "name": "stdout",
     "output_type": "stream",
     "text": [
      "negation       \t-\n",
      "conjunction    \t&\n",
      "disjunction    \t|\n",
      "implication    \t->\n",
      "equivalence    \t<->\n"
     ]
    }
   ],
   "source": [
    "nltk.boolean_ops()"
   ]
  },
  {
   "cell_type": "code",
   "execution_count": 30,
   "metadata": {
    "collapsed": false
   },
   "outputs": [
    {
     "name": "stdout",
     "output_type": "stream",
     "text": [
      "-(P & Q)\n",
      "(P & Q)\n",
      "(P | (R -> Q))\n"
     ]
    },
    {
     "data": {
      "text/plain": [
       "<IffExpression (P <-> --P)>"
      ]
     },
     "execution_count": 30,
     "metadata": {},
     "output_type": "execute_result"
    }
   ],
   "source": [
    "read_expr = nltk.sem.Expression.fromstring\n",
    "print(read_expr('-(P&Q)'))\n",
    "print(read_expr('P & Q'))\n",
    "print(read_expr('P | (R -> Q)'))\n",
    "read_expr('P <-> -- P')\n"
   ]
  },
  {
   "cell_type": "code",
   "execution_count": 46,
   "metadata": {
    "collapsed": false
   },
   "outputs": [
    {
     "data": {
      "text/plain": [
       "True"
      ]
     },
     "execution_count": 46,
     "metadata": {},
     "output_type": "execute_result"
    }
   ],
   "source": [
    "lp = nltk.sem.Expression.fromstring\n",
    "SnF=read_expr('SnF')\n",
    "NotFnS=read_expr('-FnS')\n",
    "R=read_expr('SnF -> -FnS')\n",
    "prover=nltk.inference.Prover9()\n",
    "prover.config_prover9(r'C:\\Users\\user\\Documents\\Prover9\\bin')\n",
    "prover.prove(NotFnS,[SnF,R])"
   ]
  },
  {
   "cell_type": "code",
   "execution_count": 47,
   "metadata": {
    "collapsed": true
   },
   "outputs": [],
   "source": [
    "val = nltk.Valuation([('P', True), ('Q', True), ('R', False)])"
   ]
  },
  {
   "cell_type": "code",
   "execution_count": 50,
   "metadata": {
    "collapsed": false
   },
   "outputs": [],
   "source": [
    "dom = set()\n",
    "g=nltk.Assignment(dom)"
   ]
  },
  {
   "cell_type": "code",
   "execution_count": 51,
   "metadata": {
    "collapsed": true
   },
   "outputs": [],
   "source": [
    "m = nltk.Model(dom, val)"
   ]
  },
  {
   "cell_type": "code",
   "execution_count": 54,
   "metadata": {
    "collapsed": false
   },
   "outputs": [
    {
     "name": "stdout",
     "output_type": "stream",
     "text": [
      "True\n",
      "False\n",
      "False\n",
      "True\n"
     ]
    }
   ],
   "source": [
    "print(m.evaluate('(P & Q)', g))\n",
    "print(m.evaluate('-(P & Q)', g))\n",
    "print(m.evaluate('(P & R)', g))\n",
    "print(m.evaluate('(P | R)', g))"
   ]
  },
  {
   "cell_type": "code",
   "execution_count": 60,
   "metadata": {
    "collapsed": false
   },
   "outputs": [
    {
     "data": {
      "text/plain": [
       "<ConstantExpression angus>"
      ]
     },
     "execution_count": 60,
     "metadata": {},
     "output_type": "execute_result"
    }
   ],
   "source": [
    "read_expr = nltk.sem.Expression.fromstring\n",
    "expr = read_expr('walk(angus)', type_check=True, signature=sig)\n",
    "expr.argument"
   ]
  },
  {
   "cell_type": "code",
   "execution_count": 61,
   "metadata": {
    "collapsed": false
   },
   "outputs": [
    {
     "data": {
      "text/plain": [
       "e"
      ]
     },
     "execution_count": 61,
     "metadata": {},
     "output_type": "execute_result"
    }
   ],
   "source": [
    "expr.argument.type"
   ]
  },
  {
   "cell_type": "code",
   "execution_count": 62,
   "metadata": {
    "collapsed": false
   },
   "outputs": [
    {
     "data": {
      "text/plain": [
       "<ConstantExpression walk>"
      ]
     },
     "execution_count": 62,
     "metadata": {},
     "output_type": "execute_result"
    }
   ],
   "source": [
    "expr.function"
   ]
  },
  {
   "cell_type": "code",
   "execution_count": 63,
   "metadata": {
    "collapsed": false
   },
   "outputs": [
    {
     "data": {
      "text/plain": [
       "<e,t>"
      ]
     },
     "execution_count": 63,
     "metadata": {},
     "output_type": "execute_result"
    }
   ],
   "source": [
    "expr.function.type"
   ]
  },
  {
   "cell_type": "code",
   "execution_count": 64,
   "metadata": {
    "collapsed": false
   },
   "outputs": [
    {
     "data": {
      "text/plain": [
       "set()"
      ]
     },
     "execution_count": 64,
     "metadata": {},
     "output_type": "execute_result"
    }
   ],
   "source": [
    "read_expr = nltk.sem.Expression.fromstring\n",
    "read_expr('dog(cyril)').free()"
   ]
  },
  {
   "cell_type": "code",
   "execution_count": 65,
   "metadata": {
    "collapsed": false
   },
   "outputs": [
    {
     "data": {
      "text/plain": [
       "{Variable('x')}"
      ]
     },
     "execution_count": 65,
     "metadata": {},
     "output_type": "execute_result"
    }
   ],
   "source": [
    "read_expr('dog(x)').free()"
   ]
  },
  {
   "cell_type": "code",
   "execution_count": 66,
   "metadata": {
    "collapsed": false
   },
   "outputs": [
    {
     "data": {
      "text/plain": [
       "set()"
      ]
     },
     "execution_count": 66,
     "metadata": {},
     "output_type": "execute_result"
    }
   ],
   "source": [
    "read_expr('own(angus, cyril)').free()"
   ]
  },
  {
   "cell_type": "code",
   "execution_count": 67,
   "metadata": {
    "collapsed": false
   },
   "outputs": [
    {
     "data": {
      "text/plain": [
       "set()"
      ]
     },
     "execution_count": 67,
     "metadata": {},
     "output_type": "execute_result"
    }
   ],
   "source": [
    "read_expr('exists x.dog(x)').free()"
   ]
  },
  {
   "cell_type": "code",
   "execution_count": 68,
   "metadata": {
    "collapsed": false
   },
   "outputs": [
    {
     "data": {
      "text/plain": [
       "{Variable('x')}"
      ]
     },
     "execution_count": 68,
     "metadata": {},
     "output_type": "execute_result"
    }
   ],
   "source": [
    "read_expr('((some x. walk(x)) -> sing(x))').free()"
   ]
  },
  {
   "cell_type": "code",
   "execution_count": 69,
   "metadata": {
    "collapsed": false
   },
   "outputs": [
    {
     "data": {
      "text/plain": [
       "{Variable('y')}"
      ]
     },
     "execution_count": 69,
     "metadata": {},
     "output_type": "execute_result"
    }
   ],
   "source": [
    "read_expr('exists x.own(y, x)').free()"
   ]
  },
  {
   "cell_type": "code",
   "execution_count": 71,
   "metadata": {
    "collapsed": false
   },
   "outputs": [
    {
     "data": {
      "text/plain": [
       "True"
      ]
     },
     "execution_count": 71,
     "metadata": {},
     "output_type": "execute_result"
    }
   ],
   "source": [
    "NotFnS = read_expr('-north_of(f, s)')\n",
    "SnF = read_expr('north_of(s, f)')\n",
    "R = read_expr('all x. all y. (north_of(x, y) -> -north_of(y, x))')\n",
    "prover = nltk.Prover9()\n",
    "prover.config_prover9(r'C:\\Users\\user\\Documents\\Prover9\\bin')\n",
    "prover.prove(NotFnS, [SnF, R])"
   ]
  },
  {
   "cell_type": "code",
   "execution_count": 72,
   "metadata": {
    "collapsed": false
   },
   "outputs": [
    {
     "data": {
      "text/plain": [
       "False"
      ]
     },
     "execution_count": 72,
     "metadata": {},
     "output_type": "execute_result"
    }
   ],
   "source": [
    "FnS = read_expr('north_of(f, s)')\n",
    "prover.prove(FnS, [SnF, R])"
   ]
  },
  {
   "cell_type": "code",
   "execution_count": 73,
   "metadata": {
    "collapsed": true
   },
   "outputs": [],
   "source": [
    "dom = {'b', 'o', 'c'}"
   ]
  },
  {
   "cell_type": "code",
   "execution_count": 75,
   "metadata": {
    "collapsed": false
   },
   "outputs": [
    {
     "name": "stdout",
     "output_type": "stream",
     "text": [
      "{'bertie': 'b',\n",
      " 'boy': {('b',)},\n",
      " 'cyril': 'c',\n",
      " 'dog': {('c',)},\n",
      " 'girl': {('o',)},\n",
      " 'olive': 'o',\n",
      " 'see': {('b', 'o'), ('o', 'c'), ('c', 'b')},\n",
      " 'walk': {('c',), ('o',)}}\n"
     ]
    }
   ],
   "source": [
    "v = \"\"\"\n",
    "    bertie => b\n",
    "    olive => o\n",
    "    cyril => c\n",
    "    boy => {b}\n",
    "    girl => {o}\n",
    "    dog => {c}\n",
    "    walk => {o, c}\n",
    "    see => {(b, o), (c, b), (o, c)}\n",
    "    \"\"\"\n",
    "val = nltk.Valuation.fromstring(v)\n",
    "print(val)"
   ]
  },
  {
   "cell_type": "code",
   "execution_count": 77,
   "metadata": {
    "collapsed": false
   },
   "outputs": [
    {
     "data": {
      "text/plain": [
       "True"
      ]
     },
     "execution_count": 77,
     "metadata": {},
     "output_type": "execute_result"
    }
   ],
   "source": [
    "('b',) in val['boy']"
   ]
  },
  {
   "cell_type": "code",
   "execution_count": 79,
   "metadata": {
    "collapsed": false
   },
   "outputs": [
    {
     "name": "stdout",
     "output_type": "stream",
     "text": [
      "g[c/y][o/x]\n"
     ]
    }
   ],
   "source": [
    "g = nltk.Assignment(dom, [('x', 'o'), ('y', 'c')])\n",
    "print(g)"
   ]
  },
  {
   "cell_type": "code",
   "execution_count": 80,
   "metadata": {
    "collapsed": false
   },
   "outputs": [
    {
     "data": {
      "text/plain": [
       "True"
      ]
     },
     "execution_count": 80,
     "metadata": {},
     "output_type": "execute_result"
    }
   ],
   "source": [
    "m = nltk.Model(dom, val)\n",
    "m.evaluate('see(olive, y)', g)"
   ]
  },
  {
   "cell_type": "code",
   "execution_count": 90,
   "metadata": {
    "collapsed": false
   },
   "outputs": [
    {
     "data": {
      "text/plain": [
       "{}"
      ]
     },
     "execution_count": 90,
     "metadata": {},
     "output_type": "execute_result"
    }
   ],
   "source": [
    "g.purge()\n",
    "g"
   ]
  },
  {
   "cell_type": "code",
   "execution_count": 84,
   "metadata": {
    "collapsed": false
   },
   "outputs": [
    {
     "data": {
      "text/plain": [
       "True"
      ]
     },
     "execution_count": 84,
     "metadata": {},
     "output_type": "execute_result"
    }
   ],
   "source": [
    "m.evaluate('exists x.(girl(x) & walk(x))', g)"
   ]
  },
  {
   "cell_type": "code",
   "execution_count": 85,
   "metadata": {
    "collapsed": false
   },
   "outputs": [
    {
     "data": {
      "text/plain": [
       "True"
      ]
     },
     "execution_count": 85,
     "metadata": {},
     "output_type": "execute_result"
    }
   ],
   "source": [
    "m.evaluate('girl(x) & walk(x)', g.add('x', 'o'))"
   ]
  },
  {
   "cell_type": "code",
   "execution_count": 95,
   "metadata": {
    "collapsed": false
   },
   "outputs": [
    {
     "data": {
      "text/plain": [
       "{'b', 'o'}"
      ]
     },
     "execution_count": 95,
     "metadata": {},
     "output_type": "execute_result"
    }
   ],
   "source": [
    "fmla1 = read_expr('girl(x) | boy(x)')\n",
    "m.satisfiers(fmla1, 'x', g)"
   ]
  },
  {
   "cell_type": "code",
   "execution_count": 96,
   "metadata": {
    "collapsed": false
   },
   "outputs": [
    {
     "data": {
      "text/plain": [
       "{'b', 'c', 'o'}"
      ]
     },
     "execution_count": 96,
     "metadata": {},
     "output_type": "execute_result"
    }
   ],
   "source": [
    "fmla2 = read_expr('girl(x) -> walk(x)')\n",
    "m.satisfiers(fmla2, 'x', g)"
   ]
  },
  {
   "cell_type": "code",
   "execution_count": 97,
   "metadata": {
    "collapsed": false
   },
   "outputs": [
    {
     "data": {
      "text/plain": [
       "{'b', 'o'}"
      ]
     },
     "execution_count": 97,
     "metadata": {},
     "output_type": "execute_result"
    }
   ],
   "source": [
    "fmla3 = read_expr('walk(x) -> girl(x)')\n",
    "m.satisfiers(fmla3, 'x', g)"
   ]
  },
  {
   "cell_type": "code",
   "execution_count": 98,
   "metadata": {
    "collapsed": false
   },
   "outputs": [
    {
     "data": {
      "text/plain": [
       "True"
      ]
     },
     "execution_count": 98,
     "metadata": {},
     "output_type": "execute_result"
    }
   ],
   "source": [
    "m.evaluate('all x.(girl(x) -> walk(x))', g)"
   ]
  },
  {
   "cell_type": "code",
   "execution_count": null,
   "metadata": {
    "collapsed": true
   },
   "outputs": [],
   "source": []
  }
 ],
 "metadata": {
  "kernelspec": {
   "display_name": "Python 3",
   "language": "python",
   "name": "python3"
  },
  "language_info": {
   "codemirror_mode": {
    "name": "ipython",
    "version": 3
   },
   "file_extension": ".py",
   "mimetype": "text/x-python",
   "name": "python",
   "nbconvert_exporter": "python",
   "pygments_lexer": "ipython3",
   "version": "3.5.1"
  }
 },
 "nbformat": 4,
 "nbformat_minor": 0
}
